{
 "cells": [
  {
   "cell_type": "code",
   "execution_count": 9,
   "metadata": {},
   "outputs": [],
   "source": [
    "import numpy as np"
   ]
  },
  {
   "cell_type": "code",
   "execution_count": 10,
   "metadata": {},
   "outputs": [
    {
     "data": {
      "text/plain": [
       "array([[-0.43124523,  0.49315012, -0.55075835, -0.51719991],\n",
       "       [-0.53273754, -0.53052572,  0.41966021, -0.50854546],\n",
       "       [-0.52374556, -0.40520071, -0.48729169,  0.5692537 ],\n",
       "       [-0.50587435,  0.5578152 ,  0.53206894,  0.38708653]])"
      ]
     },
     "execution_count": 10,
     "metadata": {},
     "output_type": "execute_result"
    }
   ],
   "source": [
    "A = np.array([[3,4,3,1], [1,3,2,6], [2,4,1,5],[3,3,5,2]])\n",
    "U, D, V = np.linalg.svd(A)\n",
    "U\n"
   ]
  },
  {
   "cell_type": "code",
   "execution_count": 11,
   "metadata": {},
   "outputs": [
    {
     "data": {
      "text/plain": [
       "array([[-0.3593326 , -0.56750746, -0.4428526 , -0.59388293],\n",
       "       [ 0.36767659,  0.08799758,  0.56862492, -0.73057242],\n",
       "       [-0.29605046, -0.62845599,  0.65902357,  0.28824492],\n",
       "       [ 0.80501437, -0.52462823, -0.21502376,  0.17459057]])"
      ]
     },
     "execution_count": 11,
     "metadata": {},
     "output_type": "execute_result"
    }
   ],
   "source": [
    "V"
   ]
  },
  {
   "cell_type": "code",
   "execution_count": 40,
   "metadata": {},
   "outputs": [
    {
     "name": "stdout",
     "output_type": "stream",
     "text": [
      "[-0.3593326  -0.56750746 -0.4428526  -0.59388293]\n",
      "[ 0.36767659  0.08799758  0.56862492 -0.73057242]\n",
      "[-0.29605046 -0.62845599  0.65902357  0.28824492]\n",
      "[ 0.80501437 -0.52462823 -0.21502376  0.17459057]\n",
      "\n",
      "\n",
      "[-0.35933259791154737, 0.3676765887075529, -0.29605045619593257, 0.8050143710398562]\n",
      "[-0.5675074604972962, 0.08799758087108188, -0.6284559894201118, -0.5246282277982528]\n",
      "[-0.4428526020082162, 0.568624915473525, 0.6590235660195086, -0.2150237610781874]\n",
      "[-0.5938829339630837, -0.7305724176150787, 0.28824492394333495, 0.17459057015875665]\n"
     ]
    }
   ],
   "source": [
    "for row in V : \n",
    "    print(row) \n",
    "rez = [[V[j][i] for j in range(len(V))] for i in range(len(V[0]))] \n",
    "print(\"\\n\") \n",
    "for row in rez: \n",
    "    print(row) \n"
   ]
  },
  {
   "cell_type": "code",
   "execution_count": 41,
   "metadata": {},
   "outputs": [
    {
     "data": {
      "text/plain": [
       "array([12.22151125,  4.92815942,  2.06380839,  0.29766152])"
      ]
     },
     "execution_count": 41,
     "metadata": {},
     "output_type": "execute_result"
    }
   ],
   "source": [
    "D"
   ]
  },
  {
   "cell_type": "code",
   "execution_count": 42,
   "metadata": {},
   "outputs": [],
   "source": [
    "sigma = np.array([[12.22151125,0], [0,4.92815942]])"
   ]
  },
  {
   "cell_type": "code",
   "execution_count": 43,
   "metadata": {},
   "outputs": [],
   "source": [
    "m = np.matrix(sigma)"
   ]
  },
  {
   "cell_type": "code",
   "execution_count": 44,
   "metadata": {},
   "outputs": [
    {
     "data": {
      "text/plain": [
       "matrix([[0.08182294, 0.        ],\n",
       "        [0.        , 0.20291551]])"
      ]
     },
     "execution_count": 44,
     "metadata": {},
     "output_type": "execute_result"
    }
   ],
   "source": [
    "inverseMatrix = np.linalg.inv(m)\n",
    "inverseMatrix"
   ]
  },
  {
   "cell_type": "code",
   "execution_count": null,
   "metadata": {},
   "outputs": [],
   "source": []
  },
  {
   "cell_type": "code",
   "execution_count": null,
   "metadata": {},
   "outputs": [],
   "source": []
  },
  {
   "cell_type": "code",
   "execution_count": 49,
   "metadata": {},
   "outputs": [],
   "source": [
    "U=U[:, 0:2]"
   ]
  },
  {
   "cell_type": "code",
   "execution_count": 50,
   "metadata": {},
   "outputs": [],
   "source": [
    "Alice = np.array([5,3,4,4])"
   ]
  },
  {
   "cell_type": "code",
   "execution_count": 51,
   "metadata": {},
   "outputs": [],
   "source": [
    "intermidiate = np.matmul(Alice, U)"
   ]
  },
  {
   "cell_type": "code",
   "execution_count": 52,
   "metadata": {},
   "outputs": [],
   "source": [
    "final = np.matmul(intermidiate,inverseMatrix)"
   ]
  },
  {
   "cell_type": "code",
   "execution_count": 53,
   "metadata": {},
   "outputs": [
    {
     "data": {
      "text/plain": [
       "matrix([[-0.64418534,  0.30125475]])"
      ]
     },
     "execution_count": 53,
     "metadata": {},
     "output_type": "execute_result"
    }
   ],
   "source": [
    "final"
   ]
  },
  {
   "cell_type": "code",
   "execution_count": null,
   "metadata": {},
   "outputs": [],
   "source": []
  }
 ],
 "metadata": {
  "kernelspec": {
   "display_name": "Python 3",
   "language": "python",
   "name": "python3"
  },
  "language_info": {
   "codemirror_mode": {
    "name": "ipython",
    "version": 3
   },
   "file_extension": ".py",
   "mimetype": "text/x-python",
   "name": "python",
   "nbconvert_exporter": "python",
   "pygments_lexer": "ipython3",
   "version": "3.6.4"
  }
 },
 "nbformat": 4,
 "nbformat_minor": 2
}
